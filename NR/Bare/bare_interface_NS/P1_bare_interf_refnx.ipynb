{
 "cells": [
  {
   "cell_type": "code",
   "execution_count": 1,
   "metadata": {},
   "outputs": [],
   "source": [
    "# load in packages required for analysis.\n",
    "\n",
    "%matplotlib qt\n",
    "import os.path\n",
    "\n",
    "from refnx.dataset import ReflectDataset\n",
    "from refnx.analysis import Transform, CurveFitter, Objective, GlobalObjective, Parameter\n",
    "from refnx.reflect import SLD, ReflectModel, MixedReflectModel\n",
    "from MixedLayerSlab import MixedMagSlabs2 #load in custom model for magnetic layers in non-polarised instrument.\n",
    "import refnx\n",
    "\n",
    "import dynesty\n",
    "\n",
    "import scipy\n",
    "import numpy as np\n",
    "import matplotlib.pyplot as plt"
   ]
  },
  {
   "cell_type": "code",
   "execution_count": 2,
   "metadata": {},
   "outputs": [
    {
     "name": "stdout",
     "output_type": "stream",
     "text": [
      "refnx: 0.1.17\n",
      "scipy: 1.5.2\n",
      "numpy: 1.19.2\n"
     ]
    }
   ],
   "source": [
    "#print what versions we are using.\n",
    "\n",
    "print('refnx: %s\\nscipy: %s\\nnumpy: %s' % (refnx.version.version, scipy.version.version, np.version.version))"
   ]
  },
  {
   "cell_type": "code",
   "execution_count": 3,
   "metadata": {},
   "outputs": [],
   "source": [
    "#load data from .txt files - this can be done smarter but works as a test.\n",
    "\n",
    "file_path_hdod = '61112_14.txt'\n",
    "file_path_ddod = '61143_45.txt'\n",
    "\n",
    "#Define datasets with data loaded\n",
    "\n",
    "P1hdod = ReflectDataset(file_path_hdod)\n",
    "P1ddod = ReflectDataset(file_path_ddod)"
   ]
  },
  {
   "cell_type": "code",
   "execution_count": 4,
   "metadata": {},
   "outputs": [],
   "source": [
    "#now define some SLDs we will use...\n",
    "\n",
    "#LAYERS#\n",
    "Si = SLD(2.07, name='Si')\n",
    "SiO2 = SLD(3.47, name='SiO2')\n",
    "Fe = SLD(8.02, name='Fe')\n",
    "FeOx = SLD(7.0, name='FeOx')\n",
    "\n",
    "#SOLVENTS#\n",
    "hdod_SLD = SLD(-0.462, name='hdod1')\n",
    "ddod_SLD = SLD(6.7, name='ddod1')"
   ]
  },
  {
   "cell_type": "code",
   "execution_count": 5,
   "metadata": {},
   "outputs": [],
   "source": [
    "\"\"\"\n",
    "Here we define the material layers at the interface.\n",
    "\"\"\"\n",
    "\n",
    "#Create slabs for model\n",
    "\n",
    "##SiO2##\n",
    "\n",
    "SiO2_lay = SiO2(15, 3)\n",
    "\n",
    "SiO2_lay.thick.setp(vary=True, bounds=(1, 25))\n",
    "\n",
    "##Fe##\n",
    "# share the same Fe thickness, SiO2-Fe roughness - we specify variation of parameters here.\n",
    "SiO2_Fe_R = Parameter(4, 'SiO2_Fe_R', vary=True, bounds=(1, 10))\n",
    "Fe.real.setp(vary=True, bounds=(7.5, 8.1))\n",
    "Fe_thick = Parameter(190, 'Fe_t', vary=True, bounds=(170, 210))\n",
    "Fe_magmom = Parameter(2.1, 'Fe_magmom', vary=True, bounds=(1.9, 2.2))\n",
    "Fe_ScattLen = Parameter(0.0000945, 'Fe_SL', vary=False)\n",
    "\n",
    "FeUp_lay = MixedMagSlabs2.USM_Slab(Fe_thick, Fe, Fe_magmom, Fe_ScattLen, SiO2_Fe_R)\n",
    "FeDown_lay = MixedMagSlabs2.DSM_Slab(Fe_thick, Fe, Fe_magmom, Fe_ScattLen, SiO2_Fe_R)\n",
    "\n",
    "##FeOx##\n",
    "Fe_FeOx_R = Parameter(5, 'FeOx_Fe_R', vary=True, bounds=(1, 15))\n",
    "FeOx.real.setp(vary=True, bounds=(5.0, 7.2))\n",
    "FeOx_thick = Parameter(30, 'FeOx_t', vary=True, bounds=(20, 40))\n",
    "FeOx_m = Parameter(0.5, 'FeOx_m', vary=True, bounds=(0, 1.3))\n",
    "\n",
    "FeOxUp_lay = MixedMagSlabs2.USM_nomagmom_Slab(FeOx_thick, FeOx, FeOx_m, Fe_FeOx_R)\n",
    "FeOxDown_lay = MixedMagSlabs2.DSM_nomagmom_Slab(FeOx_thick, FeOx, FeOx_m, Fe_FeOx_R)\n",
    "\n",
    "FeOx_R = Parameter(6, 'FeOx_R', vary=True, bounds=(1, 15))\n",
    "\n",
    "### SOLVENT PARAMS FOR BARE_LAYER SOLVENT###\n",
    "\n",
    "hdod_bare_lay = hdod_SLD(0, FeOx_R)\n",
    "ddod_bare_lay = ddod_SLD(0, FeOx_R)\n",
    "\n",
    "ddod_bare_lay.sld.real.setp(vary=True, bounds=(5, 6.703))\n",
    "hdod_bare_lay.sld.real.setp(vary=False) #we could fit using a gaussian prior made from pre-determined density measurements.\n",
    "#however, probably good enough just to keep a constant at -0.462 x 10-6 \\AA-2."
   ]
  },
  {
   "cell_type": "code",
   "execution_count": 6,
   "metadata": {},
   "outputs": [],
   "source": [
    "P1_hdod_U_bare = Si | SiO2_lay | FeUp_lay | FeOxUp_lay | hdod_bare_lay\n",
    "P1_hdod_D_bare = Si | SiO2_lay | FeDown_lay | FeOxDown_lay | hdod_bare_lay\n",
    "\n",
    "P1_ddod_U_bare = Si | SiO2_lay | FeUp_lay | FeOxUp_lay | ddod_bare_lay\n",
    "P1_ddod_D_bare = Si | SiO2_lay | FeDown_lay | FeOxDown_lay | ddod_bare_lay"
   ]
  },
  {
   "cell_type": "code",
   "execution_count": 7,
   "metadata": {},
   "outputs": [],
   "source": [
    "#now define the models\n",
    "\n",
    "#these are the scale and background parameters\n",
    "P1hdod_M_int = Parameter(0.5, 'P1hdod_M_int', vary=True, bounds=(0.5*0.8, 0.5*1.2))\n",
    "P1ddod_M_int = Parameter(0.5, 'P1ddod_M_int', vary=True, bounds=(0.5*0.8, 0.5*1.2))\n",
    "P1hdod_M_bkg = Parameter(1e-6, 'P1hdod_M_bkg', vary=True, bounds=(1e-7, 2e-5))\n",
    "P1ddod_M_bkg = Parameter(1e-6, 'P1ddod_M_bkg', vary=True, bounds=(1e-7, 2e-5))\n",
    "\n",
    "#define bare interface objective & global objective.\n",
    "P1hdod_M_bare = MixedReflectModel((P1_hdod_U_bare, P1_hdod_D_bare), scales=(P1hdod_M_int, P1hdod_M_int), bkg=P1hdod_M_bkg, dq=4.7096)\n",
    "P1ddod_M_bare = MixedReflectModel((P1_ddod_U_bare, P1_ddod_D_bare), scales=(P1ddod_M_int, P1ddod_M_int), bkg=P1ddod_M_bkg, dq=4.7096)\n",
    "P1hdod_bare_obj = Objective(P1hdod_M_bare, P1hdod, transform=Transform('logY'))\n",
    "P1ddod_bare_obj = Objective(P1ddod_M_bare, P1ddod, transform=Transform('logY'))\n",
    "bare_glob_obj = GlobalObjective([P1hdod_bare_obj, P1ddod_bare_obj])"
   ]
  },
  {
   "cell_type": "code",
   "execution_count": 8,
   "metadata": {},
   "outputs": [
    {
     "name": "stdout",
     "output_type": "stream",
     "text": [
      "['P1hdod_M_int', 'P1hdod_M_bkg', 'SiO2 - thick', 'Fe_t', 'Fe - sld', 'Fe_magmom', 'SiO2_Fe_R', 'FeOx_t', 'FeOx - sld', 'FeOx_m', 'FeOx_Fe_R', 'FeOx_R', 'P1ddod_M_int', 'P1ddod_M_bkg', 'ddod1 - sld']\n"
     ]
    }
   ],
   "source": [
    "### BE SENSIBLE AND HAVE A LOOK AT YOUR DATA BEFORE NS ###\n",
    "\n",
    "P1hdod_bare_obj.plot()\n",
    "P1ddod_bare_obj.plot()\n",
    "\n",
    "### ALSO HAVE A LOOK AT THE SLD TO CHECK ALL LOOKS FINE ###\n",
    "\n",
    "# plt.plot(*P1_hdod_U_bare.sld_profile())\n",
    "# plt.plot(*P1_hdod_D_bare.sld_profile())\n",
    "# plt.ylabel('SLD /$10^{-6} \\AA^{-2}$')\n",
    "# plt.xlabel('distance / $\\AA$');\n",
    "\n",
    "### makes sense to look at the list of varying parameters to ensure no mistakes ###\n",
    "print(bare_glob_obj.varying_parameters().names())"
   ]
  },
  {
   "cell_type": "code",
   "execution_count": 9,
   "metadata": {},
   "outputs": [
    {
     "name": "stderr",
     "output_type": "stream",
     "text": [
      "133it [03:51,  1.74s/it]\n"
     ]
    },
    {
     "name": "stdout",
     "output_type": "stream",
     "text": [
      "_______________________________________________________________________________\n",
      "\n",
      "--Global Objective--\n",
      "________________________________________________________________________________\n",
      "Objective - 2068013509832\n",
      "Dataset = 61112_14\n",
      "datapoints = 186\n",
      "chi2 = 772.5678290586268\n",
      "Weighted = True\n",
      "Transform = Transform('logY')\n",
      "________________________________________________________________________________\n",
      "Parameters:       ''       \n",
      "[Parameters(data=[Parameters(data=[Parameter(value=0.45116777962732135, name='P1hdod_M_int', vary=True, bounds=Interval(lb=0.4, ub=0.6), constraint=None), Parameter(value=0.45116777962732135, name='P1hdod_M_int', vary=True, bounds=Interval(lb=0.4, ub=0.6), constraint=None)], name='scale factors'), Parameter(value=5.155824342011186e-06, name='P1hdod_M_bkg', vary=True, bounds=Interval(lb=1e-07, ub=2e-05), constraint=None), Parameter(value=4.7096, name='dq - resolution', vary=False, bounds=Interval(lb=-np.inf, ub=np.inf), constraint=None)], name='instrument parameters')]\n",
      "________________________________________________________________________________\n",
      "Parameters: 'Structure - ' \n",
      "________________________________________________________________________________\n",
      "Parameters:      'Si'      \n",
      "<Parameter: 'Si - thick'  , value=0 (fixed)  , bounds=[-inf, inf]>\n",
      "<Parameter:  'Si - sld'   , value=2.07 (fixed)  , bounds=[-inf, inf]>\n",
      "<Parameter:  'Si - isld'  , value=0 (fixed)  , bounds=[-inf, inf]>\n",
      "<Parameter: 'Si - rough'  , value=0 (fixed)  , bounds=[-inf, inf]>\n",
      "<Parameter:'Si - volfrac solvent', value=0 (fixed)  , bounds=[0.0, 1.0]>\n",
      "________________________________________________________________________________\n",
      "Parameters:     'SiO2'     \n",
      "<Parameter:'SiO2 - thick' , value=4.96372 +/- 3.38 , bounds=[1.0, 25.0]>\n",
      "<Parameter: 'SiO2 - sld'  , value=3.47 (fixed)  , bounds=[-inf, inf]>\n",
      "<Parameter: 'SiO2 - isld' , value=0 (fixed)  , bounds=[-inf, inf]>\n",
      "<Parameter:'SiO2 - rough' , value=3 (fixed)  , bounds=[-inf, inf]>\n",
      "<Parameter:'SiO2 - volfrac solvent', value=0 (fixed)  , bounds=[0.0, 1.0]>\n",
      "________________________________________________________________________________\n",
      "Parameters:       ''       \n",
      "<Parameter:    'Fe_t'     , value=197.013 +/- 0.394, bounds=[170.0, 210.0]>\n",
      "<Parameter:  'Fe - sld'   , value=8.09926 +/- 0.034, bounds=[7.5, 8.1]>\n",
      "<Parameter:  'Fe - isld'  , value=0 (fixed)  , bounds=[-inf, inf]>\n",
      "<Parameter:  'Fe_magmom'  , value=2.14163 +/- 0.0217, bounds=[1.9, 2.2]>\n",
      "<Parameter:    'Fe_SL'    , value=9.45e-05 (fixed)  , bounds=[-inf, inf]>\n",
      "<Parameter:  'SiO2_Fe_R'  , value=1.02299 +/- 2.23 , bounds=[1.0, 10.0]>\n",
      "<Parameter:' - volfrac solvent', value=0 (fixed)  , bounds=[0.0, 1.0]>\n",
      "________________________________________________________________________________\n",
      "Parameters:       ''       \n",
      "<Parameter:   'FeOx_t'    , value=36.7129 +/- 0.337, bounds=[20.0, 40.0]>\n",
      "<Parameter: 'FeOx - sld'  , value=5.0007 +/- 0.063, bounds=[5.0, 7.2]>\n",
      "<Parameter: 'FeOx - isld' , value=0 (fixed)  , bounds=[-inf, inf]>\n",
      "<Parameter:   'FeOx_m'    , value=0.000123345 +/- 0.0614, bounds=[0.0, 1.3]>\n",
      "<Parameter:  'FeOx_Fe_R'  , value=13.8926 +/- 0.314, bounds=[1.0, 15.0]>\n",
      "<Parameter:' - volfrac solvent', value=0 (fixed)  , bounds=[0.0, 1.0]>\n",
      "________________________________________________________________________________\n",
      "Parameters:     'hdod1'    \n",
      "<Parameter:'hdod1 - thick', value=0 (fixed)  , bounds=[-inf, inf]>\n",
      "<Parameter: 'hdod1 - sld' , value=-0.462 (fixed)  , bounds=[-inf, inf]>\n",
      "<Parameter:'hdod1 - isld' , value=0 (fixed)  , bounds=[-inf, inf]>\n",
      "<Parameter:   'FeOx_R'    , value=11.9365 +/- 0.432, bounds=[1.0, 15.0]>\n",
      "<Parameter:'hdod1 - volfrac solvent', value=0 (fixed)  , bounds=[0.0, 1.0]>\n",
      "________________________________________________________________________________\n",
      "Parameters: 'Structure - ' \n",
      "________________________________________________________________________________\n",
      "Parameters:      'Si'      \n",
      "<Parameter: 'Si - thick'  , value=0 (fixed)  , bounds=[-inf, inf]>\n",
      "<Parameter:  'Si - sld'   , value=2.07 (fixed)  , bounds=[-inf, inf]>\n",
      "<Parameter:  'Si - isld'  , value=0 (fixed)  , bounds=[-inf, inf]>\n",
      "<Parameter: 'Si - rough'  , value=0 (fixed)  , bounds=[-inf, inf]>\n",
      "<Parameter:'Si - volfrac solvent', value=0 (fixed)  , bounds=[0.0, 1.0]>\n",
      "________________________________________________________________________________\n",
      "Parameters:     'SiO2'     \n",
      "<Parameter:'SiO2 - thick' , value=4.96372 +/- 3.38 , bounds=[1.0, 25.0]>\n",
      "<Parameter: 'SiO2 - sld'  , value=3.47 (fixed)  , bounds=[-inf, inf]>\n",
      "<Parameter: 'SiO2 - isld' , value=0 (fixed)  , bounds=[-inf, inf]>\n",
      "<Parameter:'SiO2 - rough' , value=3 (fixed)  , bounds=[-inf, inf]>\n",
      "<Parameter:'SiO2 - volfrac solvent', value=0 (fixed)  , bounds=[0.0, 1.0]>\n",
      "________________________________________________________________________________\n",
      "Parameters:       ''       \n",
      "<Parameter:    'Fe_t'     , value=197.013 +/- 0.394, bounds=[170.0, 210.0]>\n",
      "<Parameter:  'Fe - sld'   , value=8.09926 +/- 0.034, bounds=[7.5, 8.1]>\n",
      "<Parameter:  'Fe - isld'  , value=0 (fixed)  , bounds=[-inf, inf]>\n",
      "<Parameter:  'Fe_magmom'  , value=2.14163 +/- 0.0217, bounds=[1.9, 2.2]>\n",
      "<Parameter:    'Fe_SL'    , value=9.45e-05 (fixed)  , bounds=[-inf, inf]>\n",
      "<Parameter:  'SiO2_Fe_R'  , value=1.02299 +/- 2.23 , bounds=[1.0, 10.0]>\n",
      "<Parameter:' - volfrac solvent', value=0 (fixed)  , bounds=[0.0, 1.0]>\n",
      "________________________________________________________________________________\n",
      "Parameters:       ''       \n",
      "<Parameter:   'FeOx_t'    , value=36.7129 +/- 0.337, bounds=[20.0, 40.0]>\n",
      "<Parameter: 'FeOx - sld'  , value=5.0007 +/- 0.063, bounds=[5.0, 7.2]>\n",
      "<Parameter: 'FeOx - isld' , value=0 (fixed)  , bounds=[-inf, inf]>\n",
      "<Parameter:   'FeOx_m'    , value=0.000123345 +/- 0.0614, bounds=[0.0, 1.3]>\n",
      "<Parameter:  'FeOx_Fe_R'  , value=13.8926 +/- 0.314, bounds=[1.0, 15.0]>\n",
      "<Parameter:' - volfrac solvent', value=0 (fixed)  , bounds=[0.0, 1.0]>\n",
      "________________________________________________________________________________\n",
      "Parameters:     'hdod1'    \n",
      "<Parameter:'hdod1 - thick', value=0 (fixed)  , bounds=[-inf, inf]>\n",
      "<Parameter: 'hdod1 - sld' , value=-0.462 (fixed)  , bounds=[-inf, inf]>\n",
      "<Parameter:'hdod1 - isld' , value=0 (fixed)  , bounds=[-inf, inf]>\n",
      "<Parameter:   'FeOx_R'    , value=11.9365 +/- 0.432, bounds=[1.0, 15.0]>\n",
      "<Parameter:'hdod1 - volfrac solvent', value=0 (fixed)  , bounds=[0.0, 1.0]>\n",
      "\n",
      "\n",
      "________________________________________________________________________________\n",
      "Objective - 2068013511048\n",
      "Dataset = 61143_45\n",
      "datapoints = 186\n",
      "chi2 = 1545.4215519552229\n",
      "Weighted = True\n",
      "Transform = Transform('logY')\n",
      "________________________________________________________________________________\n",
      "Parameters:       ''       \n",
      "[Parameters(data=[Parameters(data=[Parameter(value=0.4570039978427582, name='P1ddod_M_int', vary=True, bounds=Interval(lb=0.4, ub=0.6), constraint=None), Parameter(value=0.4570039978427582, name='P1ddod_M_int', vary=True, bounds=Interval(lb=0.4, ub=0.6), constraint=None)], name='scale factors'), Parameter(value=8.95817448627643e-06, name='P1ddod_M_bkg', vary=True, bounds=Interval(lb=1e-07, ub=2e-05), constraint=None), Parameter(value=4.7096, name='dq - resolution', vary=False, bounds=Interval(lb=-np.inf, ub=np.inf), constraint=None)], name='instrument parameters')]\n",
      "________________________________________________________________________________\n",
      "Parameters: 'Structure - ' \n",
      "________________________________________________________________________________\n",
      "Parameters:      'Si'      \n",
      "<Parameter: 'Si - thick'  , value=0 (fixed)  , bounds=[-inf, inf]>\n",
      "<Parameter:  'Si - sld'   , value=2.07 (fixed)  , bounds=[-inf, inf]>\n",
      "<Parameter:  'Si - isld'  , value=0 (fixed)  , bounds=[-inf, inf]>\n",
      "<Parameter: 'Si - rough'  , value=0 (fixed)  , bounds=[-inf, inf]>\n",
      "<Parameter:'Si - volfrac solvent', value=0 (fixed)  , bounds=[0.0, 1.0]>\n",
      "________________________________________________________________________________\n",
      "Parameters:     'SiO2'     \n",
      "<Parameter:'SiO2 - thick' , value=4.96372 +/- 3.38 , bounds=[1.0, 25.0]>\n",
      "<Parameter: 'SiO2 - sld'  , value=3.47 (fixed)  , bounds=[-inf, inf]>\n",
      "<Parameter: 'SiO2 - isld' , value=0 (fixed)  , bounds=[-inf, inf]>\n",
      "<Parameter:'SiO2 - rough' , value=3 (fixed)  , bounds=[-inf, inf]>\n",
      "<Parameter:'SiO2 - volfrac solvent', value=0 (fixed)  , bounds=[0.0, 1.0]>\n",
      "________________________________________________________________________________\n",
      "Parameters:       ''       \n",
      "<Parameter:    'Fe_t'     , value=197.013 +/- 0.394, bounds=[170.0, 210.0]>\n",
      "<Parameter:  'Fe - sld'   , value=8.09926 +/- 0.034, bounds=[7.5, 8.1]>\n",
      "<Parameter:  'Fe - isld'  , value=0 (fixed)  , bounds=[-inf, inf]>\n",
      "<Parameter:  'Fe_magmom'  , value=2.14163 +/- 0.0217, bounds=[1.9, 2.2]>\n",
      "<Parameter:    'Fe_SL'    , value=9.45e-05 (fixed)  , bounds=[-inf, inf]>\n",
      "<Parameter:  'SiO2_Fe_R'  , value=1.02299 +/- 2.23 , bounds=[1.0, 10.0]>\n",
      "<Parameter:' - volfrac solvent', value=0 (fixed)  , bounds=[0.0, 1.0]>\n",
      "________________________________________________________________________________\n",
      "Parameters:       ''       \n",
      "<Parameter:   'FeOx_t'    , value=36.7129 +/- 0.337, bounds=[20.0, 40.0]>\n",
      "<Parameter: 'FeOx - sld'  , value=5.0007 +/- 0.063, bounds=[5.0, 7.2]>\n",
      "<Parameter: 'FeOx - isld' , value=0 (fixed)  , bounds=[-inf, inf]>\n",
      "<Parameter:   'FeOx_m'    , value=0.000123345 +/- 0.0614, bounds=[0.0, 1.3]>\n",
      "<Parameter:  'FeOx_Fe_R'  , value=13.8926 +/- 0.314, bounds=[1.0, 15.0]>\n",
      "<Parameter:' - volfrac solvent', value=0 (fixed)  , bounds=[0.0, 1.0]>\n",
      "________________________________________________________________________________\n",
      "Parameters:     'ddod1'    \n",
      "<Parameter:'ddod1 - thick', value=0 (fixed)  , bounds=[-inf, inf]>\n",
      "<Parameter: 'ddod1 - sld' , value=6.25075 +/- 0.00187, bounds=[5.0, 6.703]>\n",
      "<Parameter:'ddod1 - isld' , value=0 (fixed)  , bounds=[-inf, inf]>\n",
      "<Parameter:   'FeOx_R'    , value=11.9365 +/- 0.432, bounds=[1.0, 15.0]>\n",
      "<Parameter:'ddod1 - volfrac solvent', value=0 (fixed)  , bounds=[0.0, 1.0]>\n",
      "________________________________________________________________________________\n",
      "Parameters: 'Structure - ' \n",
      "________________________________________________________________________________\n",
      "Parameters:      'Si'      \n",
      "<Parameter: 'Si - thick'  , value=0 (fixed)  , bounds=[-inf, inf]>\n",
      "<Parameter:  'Si - sld'   , value=2.07 (fixed)  , bounds=[-inf, inf]>\n",
      "<Parameter:  'Si - isld'  , value=0 (fixed)  , bounds=[-inf, inf]>\n",
      "<Parameter: 'Si - rough'  , value=0 (fixed)  , bounds=[-inf, inf]>\n",
      "<Parameter:'Si - volfrac solvent', value=0 (fixed)  , bounds=[0.0, 1.0]>\n",
      "________________________________________________________________________________\n",
      "Parameters:     'SiO2'     \n",
      "<Parameter:'SiO2 - thick' , value=4.96372 +/- 3.38 , bounds=[1.0, 25.0]>\n",
      "<Parameter: 'SiO2 - sld'  , value=3.47 (fixed)  , bounds=[-inf, inf]>\n",
      "<Parameter: 'SiO2 - isld' , value=0 (fixed)  , bounds=[-inf, inf]>\n",
      "<Parameter:'SiO2 - rough' , value=3 (fixed)  , bounds=[-inf, inf]>\n",
      "<Parameter:'SiO2 - volfrac solvent', value=0 (fixed)  , bounds=[0.0, 1.0]>\n",
      "________________________________________________________________________________\n",
      "Parameters:       ''       \n",
      "<Parameter:    'Fe_t'     , value=197.013 +/- 0.394, bounds=[170.0, 210.0]>\n",
      "<Parameter:  'Fe - sld'   , value=8.09926 +/- 0.034, bounds=[7.5, 8.1]>\n",
      "<Parameter:  'Fe - isld'  , value=0 (fixed)  , bounds=[-inf, inf]>\n",
      "<Parameter:  'Fe_magmom'  , value=2.14163 +/- 0.0217, bounds=[1.9, 2.2]>\n",
      "<Parameter:    'Fe_SL'    , value=9.45e-05 (fixed)  , bounds=[-inf, inf]>\n",
      "<Parameter:  'SiO2_Fe_R'  , value=1.02299 +/- 2.23 , bounds=[1.0, 10.0]>\n",
      "<Parameter:' - volfrac solvent', value=0 (fixed)  , bounds=[0.0, 1.0]>\n",
      "________________________________________________________________________________\n",
      "Parameters:       ''       \n",
      "<Parameter:   'FeOx_t'    , value=36.7129 +/- 0.337, bounds=[20.0, 40.0]>\n",
      "<Parameter: 'FeOx - sld'  , value=5.0007 +/- 0.063, bounds=[5.0, 7.2]>\n",
      "<Parameter: 'FeOx - isld' , value=0 (fixed)  , bounds=[-inf, inf]>\n",
      "<Parameter:   'FeOx_m'    , value=0.000123345 +/- 0.0614, bounds=[0.0, 1.3]>\n",
      "<Parameter:  'FeOx_Fe_R'  , value=13.8926 +/- 0.314, bounds=[1.0, 15.0]>\n",
      "<Parameter:' - volfrac solvent', value=0 (fixed)  , bounds=[0.0, 1.0]>\n",
      "________________________________________________________________________________\n",
      "Parameters:     'ddod1'    \n",
      "<Parameter:'ddod1 - thick', value=0 (fixed)  , bounds=[-inf, inf]>\n",
      "<Parameter: 'ddod1 - sld' , value=6.25075 +/- 0.00187, bounds=[5.0, 6.703]>\n",
      "<Parameter:'ddod1 - isld' , value=0 (fixed)  , bounds=[-inf, inf]>\n",
      "<Parameter:   'FeOx_R'    , value=11.9365 +/- 0.432, bounds=[1.0, 15.0]>\n",
      "<Parameter:'ddod1 - volfrac solvent', value=0 (fixed)  , bounds=[0.0, 1.0]>\n",
      "\n",
      "\n"
     ]
    }
   ],
   "source": [
    "### initial fit to check the model works how we wish. ###\n",
    "fitter = CurveFitter(bare_glob_obj)\n",
    "fitter.fit('differential_evolution'); #initial fit. lets check the model is how we want.\n",
    "print(bare_glob_obj)"
   ]
  },
  {
   "cell_type": "code",
   "execution_count": 10,
   "metadata": {},
   "outputs": [
    {
     "data": {
      "text/plain": [
       "(<Figure size 640x480 with 1 Axes>, <AxesSubplot:>)"
      ]
     },
     "execution_count": 10,
     "metadata": {},
     "output_type": "execute_result"
    }
   ],
   "source": [
    "#check acceptable fits and SLD profiles...\n",
    "P1hdod_bare_obj.plot()\n",
    "P1ddod_bare_obj.plot()\n",
    "\n",
    "# plt.plot(*P1_ddod_U_bare.sld_profile())\n",
    "# plt.plot(*P1_ddod_D_bare.sld_profile())\n",
    "# plt.ylabel('SLD /$10^{-6} \\AA^{-2}$')\n",
    "# plt.xlabel('distance / $\\AA$');"
   ]
  },
  {
   "cell_type": "code",
   "execution_count": 11,
   "metadata": {},
   "outputs": [
    {
     "name": "stderr",
     "output_type": "stream",
     "text": [
      "30272it [1:31:20,  5.52it/s, +500 | bound: 498 | nc: 1 | ncall: 729888 | eff(%):  4.216 | loglstar:   -inf < -117.027 <    inf | logz: -177.010 +/-  0.495 | dlogz:  0.001 >  0.509]\n"
     ]
    }
   ],
   "source": [
    "### Nested Sampling ### Now we do the nested sampling!\n",
    "nested_sampler = dynesty.NestedSampler(bare_glob_obj.logl, bare_glob_obj.prior_transform, ndim=len(bare_glob_obj.varying_parameters()))\n",
    "nested_sampler.run_nested()"
   ]
  },
  {
   "cell_type": "code",
   "execution_count": 12,
   "metadata": {},
   "outputs": [
    {
     "name": "stdout",
     "output_type": "stream",
     "text": [
      "-177.01033670662588 0.4946925113693943\n"
     ]
    }
   ],
   "source": [
    "ns_results_bare = nested_sampler.results\n",
    "\n",
    "from dynesty import plotting as dyplot\n",
    "\n",
    "#print(ns_results)\n",
    "\n",
    "# Plot a summary of the run.\n",
    "rfig, raxes = dyplot.runplot(ns_results_bare)\n",
    "\n",
    "# Plot traces and 1-D marginalized posteriors.\n",
    "#tfig, taxes = dyplot.traceplot(ns_results_bare)\n",
    "\n",
    "# Plot the 2-D marginalized posteriors.\n",
    "#cfig, caxes = dyplot.cornerplot(ns_results_bare, labels=bare_glob_obj.varying_parameters().names())\n",
    "\n",
    "print(ns_results_bare.logz[-1], ns_results_bare.logzerr[-1])"
   ]
  },
  {
   "cell_type": "code",
   "execution_count": null,
   "metadata": {},
   "outputs": [],
   "source": []
  }
 ],
 "metadata": {
  "kernelspec": {
   "display_name": "Python 3 (ipykernel)",
   "language": "python",
   "name": "python3"
  },
  "language_info": {
   "codemirror_mode": {
    "name": "ipython",
    "version": 3
   },
   "file_extension": ".py",
   "mimetype": "text/x-python",
   "name": "python",
   "nbconvert_exporter": "python",
   "pygments_lexer": "ipython3",
   "version": "3.9.7"
  }
 },
 "nbformat": 4,
 "nbformat_minor": 4
}
