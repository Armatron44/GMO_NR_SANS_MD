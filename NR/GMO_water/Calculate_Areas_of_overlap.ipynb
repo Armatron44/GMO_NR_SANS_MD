{
 "cells": [
  {
   "cell_type": "code",
   "execution_count": 2,
   "id": "e9581d2b",
   "metadata": {},
   "outputs": [],
   "source": [
    "import sys\n",
    "import os\n",
    "\n",
    "sys.path.append(os.getcwd())\n",
    "\n",
    "from refnx.dataset import ReflectDataset\n",
    "from refnx.analysis import Transform, CurveFitter, Objective, GlobalObjective, Parameter, autocorrelation_chain, process_chain, integrated_time\n",
    "from refnx.reflect import SLD, ReflectModel, MixedReflectModel, MixedSlab, Slab, Structure\n",
    "import MixedMagSlabs2\n",
    "from vfp_M2 import VFP\n",
    "import refnx\n",
    "import scipy\n",
    "import matplotlib.pyplot as plt\n",
    "import numpy as np\n",
    "import arviz as az\n",
    "import pickle\n",
    "import copy\n",
    "from uravu.distribution import Distribution"
   ]
  },
  {
   "cell_type": "code",
   "execution_count": 3,
   "id": "e54c9fd0",
   "metadata": {},
   "outputs": [],
   "source": [
    "class LogpExtra(object):\n",
    "    def __init__(self, pars):\n",
    "        # we'll store the parameters and objective in this object\n",
    "        # this will be necessary for pickling in the future\n",
    "        self.pars = pars\n",
    "\n",
    "    def __call__(self, model, data):\n",
    "        if (float(self.pars[0]-2*self.pars[1]) >= 0 and float(self.pars[2]-2*self.pars[3]) >= 0 and float(self.pars[6]) >= 0 and float(self.pars[6]) <= 1 \n",
    "        and float(self.pars[4]-2*self.pars[5]) >= 0 and float(self.pars[7]) >= 0 and float(self.pars[7]) <= 1):\n",
    "            return 0\n",
    "        return -1E15"
   ]
  },
  {
   "cell_type": "code",
   "execution_count": 4,
   "id": "9a08c249",
   "metadata": {},
   "outputs": [],
   "source": [
    "with open(os.path.join(os.getcwd(), 'M2_FIT_GO.pkl'),\"rb\") as f:\n",
    "    GO = pickle.load(f)"
   ]
  },
  {
   "cell_type": "code",
   "execution_count": 5,
   "id": "a00073f7",
   "metadata": {},
   "outputs": [],
   "source": [
    "#plot median volume fractions.\n",
    "GMO_vol_frac_head_median = GO.varying_parameters()[0] #defined without including solvation.\n",
    "GMOav_vol_frac_tail_median = GO.varying_parameters()[1] #defined without including solvation.\n",
    "head_solvation_median = GO.varying_parameters()[2]\n",
    "solvation_median = GO.varying_parameters()[3]\n",
    "SiO2_thick_median = GO.varying_parameters()[4]\n",
    "SiO2_Fe_R_median = GO.varying_parameters()[5]\n",
    "Fe_thick_median = GO.varying_parameters()[6]\n",
    "Fe_SLD_median = GO.varying_parameters()[7]\n",
    "Fe_magmom_median = GO.varying_parameters()[8]\n",
    "FeOx_Fe_R_median = GO.varying_parameters()[9]\n",
    "FeOx_SLD_median = GO.varying_parameters()[10]\n",
    "FeOx_thick_median = GO.varying_parameters()[11]\n",
    "FeOx_m_median = GO.varying_parameters()[12]\n",
    "FeOx_R_median = GO.varying_parameters()[13]\n",
    "GMO_head_thick_median = GO.varying_parameters()[14]\n",
    "GMO_head_rough_median = GO.varying_parameters()[15]\n",
    "GMO_tail_thick_median = GO.varying_parameters()[16]\n",
    "GMO_tail_rough_median = GO.varying_parameters()[17]\n",
    "dd_d2o_sld_median = GO.varying_parameters()[18]\n",
    "dd_h2o_sld_median = GO.varying_parameters()[19]\n",
    "GMO_head_median = GO.varying_parameters()[20]"
   ]
  },
  {
   "cell_type": "code",
   "execution_count": 7,
   "id": "21aba29f",
   "metadata": {},
   "outputs": [],
   "source": [
    "#can calculate this using the pdf of the Fe volume fraction.\n",
    "#The pdf describes how the number of Fes change per Z value.\n",
    "#we then want to know the probability that the additional Fes at a given Z came from Si.\n",
    "#The probability of Si vs SiO2 is given by 1-cdf of SiO2.\n",
    "#We therefore multiply the pdf of Fe number by the 1-cdf of SiO2.\n",
    "#This tells us the total number of Fes that have flipped from Si at each Z.\n",
    "#Take the sum (integrate) to calculate the fraction of Si flips to Fe vs Si to SiO2.\n",
    "\n",
    "from scipy.stats import norm\n",
    "\n",
    "target_Si = (norm.pdf(np.linspace(-17, 10, (10*(10+17)+1)), loc=float(SiO2_thick_median), scale=float(SiO2_Fe_R_median))*(1-norm.cdf(np.linspace(-17, 10, (10*(10+17)+1)), loc=0, scale=3)))\n",
    "target_SiO2 = (norm.pdf(np.linspace(-17, 10, (10*(10+17)+1)), loc=float(SiO2_thick_median), scale=float(SiO2_Fe_R_median))*(norm.cdf(np.linspace(-17, 10, (10*(10+17)+1)), loc=0, scale=3)))"
   ]
  },
  {
   "cell_type": "code",
   "execution_count": 8,
   "id": "6f3a0d1d",
   "metadata": {},
   "outputs": [
    {
     "data": {
      "text/plain": [
       "<matplotlib.legend.Legend at 0x246a4200fd0>"
      ]
     },
     "execution_count": 8,
     "metadata": {},
     "output_type": "execute_result"
    },
    {
     "data": {
      "image/png": "[encoded data removed]",
      "text/plain": [
       "<Figure size 432x288 with 1 Axes>"
      ]
     },
     "metadata": {
      "needs_background": "light"
     },
     "output_type": "display_data"
    }
   ],
   "source": [
    "plt.plot(np.linspace(-17, 10, (10*(10+17)+1)), norm.pdf(np.linspace(-17, 10, (10*(10+17)+1)), loc=float(SiO2_thick_median), scale=float(SiO2_Fe_R_median)), label='PDF of Fe')\n",
    "plt.plot(np.linspace(-17, 10, (10*(10+17)+1)), (1-norm.cdf(np.linspace(-17, 10, (10*(10+17)+1)), loc=0, scale=3)), label='Si to SiO2')\n",
    "plt.plot(np.linspace(-17, 10, (10*(10+17)+1)), target_Si, label='combination')\n",
    "plt.legend()"
   ]
  },
  {
   "cell_type": "code",
   "execution_count": 622,
   "id": "db3b2ca0",
   "metadata": {},
   "outputs": [
    {
     "name": "stdout",
     "output_type": "stream",
     "text": [
      "0.027033846671061856\n",
      "0.18494907030448163\n",
      "0.21198291697554347\n",
      "0.21199324675611986\n"
     ]
    }
   ],
   "source": [
    "#The total of Target_Si and Target_SiO2 equals the total fraction of Fe at z = 10.\n",
    "\n",
    "#fraction of Fe that was flipped from Si as z increases. (i.e the area of Si/Fe interface without SiO2)\n",
    "print(np.trapz(target_Si, x=np.linspace(-17, 10, (10*(10+17)+1)))) \n",
    "\n",
    "#fraction of Fe flipped from SiO2 as z increases. (total area of SiO2/Fe interface.)\n",
    "print(np.trapz(target_SiO2, x=np.linspace(-17, 10, (10*(10+17)+1))))\n",
    "\n",
    "#do these individual components add up to the total change to Fe?\n",
    "print(np.trapz(target_Si, x=np.linspace(-17, 10, (10*(10+17)+1))) + np.trapz(target_SiO2, x=np.linspace(-17, 10, (10*(10+17)+1))))\n",
    "print(norm.cdf(np.linspace(-17, 10, (10*(10+17)+1)), loc=float(SiO2_thick_median), scale=float(SiO2_Fe_R_median))[-1])"
   ]
  },
  {
   "cell_type": "code",
   "execution_count": 27,
   "id": "b2a0181f",
   "metadata": {},
   "outputs": [],
   "source": [
    "#repeat for Fe to Inner/Outer/Solv\n",
    "\n",
    "Fe_centre = SiO2_thick_median+Fe_thick_median\n",
    "FeOx_centre = SiO2_thick_median+Fe_thick_median+FeOx_thick_median\n",
    "Inner_centre = SiO2_thick_median+Fe_thick_median+FeOx_thick_median+GMO_head_thick_median\n",
    "\n",
    "#target_not_FeOx = pdf of Fe * cdf of inner/outer/solv.\n",
    "target_not_FeOx = norm.pdf(np.linspace(170, 300, (10*(300-170)+1)), loc=float(Fe_centre), scale=float(FeOx_Fe_R_median))*norm.cdf(np.linspace(170, 300, (10*(300-170)+1)), loc=FeOx_centre, scale=FeOx_R_median)\n",
    "target_FeOx = norm.pdf(np.linspace(170, 300, (10*(300-170)+1)), loc=float(Fe_centre), scale=float(FeOx_Fe_R_median))*(1-norm.cdf(np.linspace(170, 300, (10*(300-170)+1)), loc=FeOx_centre, scale=FeOx_R_median))"
   ]
  },
  {
   "cell_type": "code",
   "execution_count": 28,
   "id": "340ffbff",
   "metadata": {},
   "outputs": [
    {
     "data": {
      "text/plain": [
       "[<matplotlib.lines.Line2D at 0x246a80ad9a0>]"
      ]
     },
     "execution_count": 28,
     "metadata": {},
     "output_type": "execute_result"
    },
    {
     "data": {
      "image/png": "[encoded data removed]",
      "text/plain": [
       "<Figure size 432x288 with 1 Axes>"
      ]
     },
     "metadata": {
      "needs_background": "light"
     },
     "output_type": "display_data"
    }
   ],
   "source": [
    "%matplotlib inline\n",
    "#plt.plot(np.linspace(170, 300, (10*(300-170)+1)), norm.cdf(np.linspace(170, 300, (10*(300-170)+1)), loc=FeOx_centre, scale=FeOx_R_median))\n",
    "plt.plot(GO.objectives[0].model.structures[0].components[1].get_x_and_y_scatter()[0], GO.objectives[0].model.structures[0].components[1].vfs_for_display()[2].T, color='k')\n",
    "plt.plot(GO.objectives[0].model.structures[0].components[1].get_x_and_y_scatter()[0], GO.objectives[0].model.structures[0].components[1].vfs_for_display()[3].T)\n",
    "plt.plot(GO.objectives[0].model.structures[0].components[1].get_x_and_y_scatter()[0], GO.objectives[0].model.structures[0].components[1].vfs_for_display()[4].T)"
   ]
  },
  {
   "cell_type": "code",
   "execution_count": 31,
   "id": "1a816fd2",
   "metadata": {},
   "outputs": [],
   "source": [
    "# the number of Fe to Inner flips.\n",
    "Fe_to_not_FeOx = np.trapz(target_not_FeOx, x=np.linspace(170, 300, (10*(300-170)+1))) "
   ]
  },
  {
   "cell_type": "code",
   "execution_count": 32,
   "id": "39168393",
   "metadata": {},
   "outputs": [],
   "source": [
    "# the number of Fe to FeOx flips.\n",
    "Fe_to_FeOx = np.trapz(target_FeOx, x=np.linspace(170, 300, (10*(300-170)+1))) "
   ]
  },
  {
   "cell_type": "code",
   "execution_count": 33,
   "id": "01a03911",
   "metadata": {},
   "outputs": [
    {
     "name": "stdout",
     "output_type": "stream",
     "text": [
      "0.01938159120041028\n",
      "0.9804246728020731\n",
      "0.9998062640024834\n"
     ]
    }
   ],
   "source": [
    "print(Fe_to_not_FeOx)\n",
    "print(Fe_to_FeOx)\n",
    "print(Fe_to_not_FeOx+Fe_to_FeOx)"
   ]
  }
 ],
 "metadata": {
  "kernelspec": {
   "display_name": "Python 3 (ipykernel)",
   "language": "python",
   "name": "python3"
  },
  "language_info": {
   "codemirror_mode": {
    "name": "ipython",
    "version": 3
   },
   "file_extension": ".py",
   "mimetype": "text/x-python",
   "name": "python",
   "nbconvert_exporter": "python",
   "pygments_lexer": "ipython3",
   "version": "3.9.7"
  }
 },
 "nbformat": 4,
 "nbformat_minor": 5
}
