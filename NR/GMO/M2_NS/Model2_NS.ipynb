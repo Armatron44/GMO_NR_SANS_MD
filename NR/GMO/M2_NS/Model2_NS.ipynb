{
 "cells": [
  {
   "cell_type": "code",
   "execution_count": 1,
   "metadata": {},
   "outputs": [],
   "source": [
    "# load in packages required for analysis.\n",
    "\n",
    "%matplotlib qt\n",
    "import os.path\n",
    "\n",
    "from refnx.dataset import ReflectDataset\n",
    "from refnx.analysis import Transform, CurveFitter, Objective, GlobalObjective, Parameter\n",
    "from refnx.reflect import SLD, ReflectModel, MixedReflectModel, MixedSlab, Slab\n",
    "from MixedLayerSlab import MixedMagSlabs2 #load in custom model for magnetic layers in non-polarised instrument.\n",
    "import refnx\n",
    "\n",
    "import dynesty\n",
    "\n",
    "import scipy\n",
    "import numpy as np\n",
    "import matplotlib.pyplot as plt"
   ]
  },
  {
   "cell_type": "code",
   "execution_count": 2,
   "metadata": {},
   "outputs": [
    {
     "name": "stdout",
     "output_type": "stream",
     "text": [
      "refnx: 0.1.18\n",
      "scipy: 1.5.2\n",
      "numpy: 1.19.2\n"
     ]
    }
   ],
   "source": [
    "#print what versions we are using.\n",
    "\n",
    "print('refnx: %s\\nscipy: %s\\nnumpy: %s' % (refnx.version.version, scipy.version.version, np.version.version))"
   ]
  },
  {
   "cell_type": "code",
   "execution_count": 3,
   "metadata": {},
   "outputs": [],
   "source": [
    "#load data from .txt files - this can be done smarter but works as a test.\n",
    "\n",
    "file_path_GMOddod25 = '61167_69.txt'\n",
    "file_path_GMOCMdod25 = '61203_05.txt'\n",
    "file_path_GMOhdod25 = '61215_17.txt'\n",
    "\n",
    "#Define datasets with data loaded\n",
    "\n",
    "P1_GMO_ddod_25 = ReflectDataset(file_path_GMOddod25)\n",
    "P1_GMO_CMdod_25 = ReflectDataset(file_path_GMOCMdod25)\n",
    "P1_GMO_hdod_25 = ReflectDataset(file_path_GMOhdod25)"
   ]
  },
  {
   "cell_type": "code",
   "execution_count": 4,
   "metadata": {},
   "outputs": [],
   "source": [
    "#now define some SLDs we will use...\n",
    "\n",
    "#LAYERS#\n",
    "Si = SLD(2.07, name='Si')\n",
    "SiO2 = SLD(3.47, name='SiO2')\n",
    "Fe = SLD(8.02, name='Fe')\n",
    "FeOx = SLD(7.0, name='FeOx')\n",
    "GMO_25 = SLD(0.21, name='GMO_25')\n",
    "\n",
    "#SOLVENTS#\n",
    "hdod_SLD_1 = SLD(-0.462, name='hdod1')\n",
    "ddod_par = Parameter(6.7, name=\"ddodSLDpar\", vary=True, bounds=(5, 6.7))\n",
    "ddod_SLD_2 = SLD(ddod_par, name='ddod2')\n",
    "CMdod_25_val = 0.352 * ddod_par + (1-0.352) * hdod_SLD_1.real\n",
    "CMdod_25_SLD = SLD(CMdod_25_val, name='CMdod_25')"
   ]
  },
  {
   "cell_type": "code",
   "execution_count": 5,
   "metadata": {},
   "outputs": [],
   "source": [
    "\"\"\"\n",
    "Here we define the material layers at the interface.\n",
    "\"\"\"\n",
    "\n",
    "#Create slabs for model\n",
    "\n",
    "##SiO2##\n",
    "\n",
    "SiO2_lay = SiO2(15, 3)\n",
    "\n",
    "SiO2_lay.thick.setp(vary=True, bounds=(1, 25))\n",
    "\n",
    "##Fe##\n",
    "# share the same Fe thickness, SiO2-Fe roughness - we specify variation of parameters here.\n",
    "SiO2_Fe_R = Parameter(4, 'SiO2_Fe_R', vary=True, bounds=(1, 10))\n",
    "Fe.real.setp(vary=True, bounds=(7.5, 8.1))\n",
    "Fe_thick = Parameter(190, 'Fe_t', vary=True, bounds=(170, 210))\n",
    "Fe_magmom = Parameter(2.1, 'Fe_magmom', vary=True, bounds=(1.9, 2.2))\n",
    "Fe_ScattLen = Parameter(0.0000945, 'Fe_SL', vary=False)\n",
    "\n",
    "FeUp_lay = MixedMagSlabs2.USM_Slab(Fe_thick, Fe, Fe_magmom, Fe_ScattLen, SiO2_Fe_R)\n",
    "FeDown_lay = MixedMagSlabs2.DSM_Slab(Fe_thick, Fe, Fe_magmom, Fe_ScattLen, SiO2_Fe_R)\n",
    "\n",
    "##FeOx##\n",
    "Fe_FeOx_R = Parameter(5, 'FeOx_Fe_R', vary=True, bounds=(1, 15))\n",
    "FeOx.real.setp(vary=True, bounds=(5.0, 7.2))\n",
    "FeOx_thick = Parameter(30, 'FeOx_t', vary=True, bounds=(20, 40))\n",
    "FeOx_m = Parameter(0.5, 'FeOx_m', vary=True, bounds=(0, 1.3))\n",
    "\n",
    "FeOxUp_lay = MixedMagSlabs2.USM_nomagmom_Slab(FeOx_thick, FeOx, FeOx_m, Fe_FeOx_R)\n",
    "FeOxDown_lay = MixedMagSlabs2.DSM_nomagmom_Slab(FeOx_thick, FeOx, FeOx_m, Fe_FeOx_R)\n",
    "\n",
    "# INTERFACIAL LAYERS#\n",
    "\n",
    "# ADV #\n",
    "# share the same FeOx_R across all interfacial layers.\n",
    "FeOx_R = Parameter(1, 'FeOx_R', vary=True, bounds=(1, 15))\n",
    "\n",
    "# GMO_25 #\n",
    "GMO_25_t = Parameter(20, 'GMO_25_t', vary=True, bounds=(10, 30))\n",
    "GMO_25_lay = GMO_25(GMO_25_t, FeOx_R)\n",
    "GMO_25_lay.sld.real.setp(vary=True, bounds=(-0.54, 6))\n",
    "\n",
    "###INTF-SOLV ROUGHNESS###\n",
    "\n",
    "# share the Adv-solv roughness.\n",
    "GMO_25_R = Parameter(1, 'GMO_25_R', vary=True, bounds=(1, 15))\n",
    "\n",
    "### SOLVENT PARAMS FOR ADV_LAYER SOLVENT\n",
    "#setup the solvent layers\n",
    "\n",
    "hdod_GMO25_lay = hdod_SLD_1(0, GMO_25_R)\n",
    "ddod_GMO25_lay = ddod_SLD_2(0, GMO_25_R)\n",
    "CMdod_GMO25_lay = CMdod_25_SLD(0, GMO_25_R)"
   ]
  },
  {
   "cell_type": "code",
   "execution_count": 6,
   "metadata": {},
   "outputs": [],
   "source": [
    "P1_GMO25ddod_U = Si | SiO2_lay | FeUp_lay | FeOxUp_lay | GMO_25_lay | ddod_GMO25_lay\n",
    "P1_GMO25ddod_D = Si | SiO2_lay | FeDown_lay | FeOxDown_lay | GMO_25_lay | ddod_GMO25_lay\n",
    "\n",
    "P1_GMO25CMdod_U = Si | SiO2_lay | FeUp_lay | FeOxUp_lay | GMO_25_lay | CMdod_GMO25_lay\n",
    "P1_GMO25CMdod_D = Si | SiO2_lay | FeDown_lay | FeOxDown_lay | GMO_25_lay | CMdod_GMO25_lay\n",
    "\n",
    "P1_GMO25hdod_U = Si | SiO2_lay | FeUp_lay | FeOxUp_lay | GMO_25_lay | hdod_GMO25_lay\n",
    "P1_GMO25hdod_D = Si | SiO2_lay | FeDown_lay | FeOxDown_lay | GMO_25_lay | hdod_GMO25_lay"
   ]
  },
  {
   "cell_type": "code",
   "execution_count": 7,
   "metadata": {},
   "outputs": [],
   "source": [
    "#now define the models\n",
    "\n",
    "#these are the scale and background parameters\n",
    "#intensities\n",
    "P1GMOddod25_int = Parameter(0.5, 'P1GMOddod25_int', vary=True, bounds=(0.5*0.8, 0.5*1.2))\n",
    "P1GMOCMdod25_int = Parameter(0.5, 'P1GMOCMdod25_int', vary=True, bounds=(0.5*0.8, 0.5*1.2))\n",
    "P1GMOhdod25_int = Parameter(0.5, 'P1GMOhdod25_int', vary=True, bounds=(0.5*0.8, 0.5*1.2))\n",
    "#background\n",
    "P1GMOddod25_bkg = Parameter(1e-6, 'P1GMOddod25_bkg', vary=True, bounds=(1e-7, 2e-5))\n",
    "P1GMOCMdod25_bkg = Parameter(1e-6, 'P1GMOCMdod25_bkg', vary=True, bounds=(1e-7, 2e-5))\n",
    "P1GMOhdod25_bkg = Parameter(1e-6, 'P1GMOhdod25_bkg', vary=True, bounds=(1e-7, 2e-5))\n",
    "\n",
    "#define adv_layer interface objective & global objective. These adv layers have their own SLD.\n",
    "#models\n",
    "P1GMOddod25_M = MixedReflectModel((P1_GMO25ddod_U, P1_GMO25ddod_D), scales=(P1GMOddod25_int, P1GMOddod25_int), bkg=P1GMOddod25_bkg, dq=4.7096)\n",
    "P1GMOCMdod25_M = MixedReflectModel((P1_GMO25CMdod_U, P1_GMO25CMdod_D), scales=(P1GMOCMdod25_int, P1GMOCMdod25_int), bkg=P1GMOCMdod25_bkg, dq=4.7096)\n",
    "P1GMOhdod25_M = MixedReflectModel((P1_GMO25hdod_U, P1_GMO25hdod_D), scales=(P1GMOhdod25_int, P1GMOhdod25_int), bkg=P1GMOhdod25_bkg, dq=4.7096)\n",
    "#objectives\n",
    "P1GMOddod25_obj = Objective(P1GMOddod25_M, P1_GMO_ddod_25, transform=Transform('logY'))\n",
    "P1GMOCMdod25_obj = Objective(P1GMOCMdod25_M, P1_GMO_CMdod_25, transform=Transform('logY'))\n",
    "P1GMOhdod25_obj = Objective(P1GMOhdod25_M, P1_GMO_hdod_25, transform=Transform('logY'))\n",
    "#global obj\n",
    "glob_objective = GlobalObjective([P1GMOddod25_obj, P1GMOCMdod25_obj, P1GMOhdod25_obj])"
   ]
  },
  {
   "cell_type": "code",
   "execution_count": 35,
   "metadata": {},
   "outputs": [
    {
     "name": "stderr",
     "output_type": "stream",
     "text": [
      "1735it [03:23,  1.55it/s, bound: 1 | nc: 25 | ncall: 17458 | eff(%):  9.938 | loglstar:   -inf < -7849.826 <    inf | logz: -7860.167 +/-  0.202 | dlogz: 6804.791 >  0.509]  C:\\Anaconda\\envs\\refnx\\lib\\site-packages\\dynesty\\sampling.py:216: UserWarning: Random number generation appears to be extremely inefficient. Adjusting the scale-factor accordingly.\n",
      "  warnings.warn(\"Random number generation appears to be \"\n",
      "31065it [2:48:50,  3.07it/s, +500 | bound: 449 | nc: 1 | ncall: 750709 | eff(%):  4.205 | loglstar:   -inf < 1244.015 <    inf | logz: 1182.436 +/-  0.503 | dlogz:  0.001 >  0.509]\n"
     ]
    }
   ],
   "source": [
    "### Nested Sampling ### Now we do the nested sampling!\n",
    "nested_sampler = dynesty.NestedSampler(glob_objective.logl, glob_objective.prior_transform, ndim=len(glob_objective.varying_parameters()), nlive=500)\n",
    "nested_sampler.run_nested()"
   ]
  },
  {
   "cell_type": "code",
   "execution_count": 36,
   "metadata": {},
   "outputs": [
    {
     "name": "stdout",
     "output_type": "stream",
     "text": [
      "1182.4357301570838 0.503491109289184\n"
     ]
    }
   ],
   "source": [
    "ns_results_sep_adv = nested_sampler.results\n",
    "#print(ns_results_sep_adv)\n",
    "\n",
    "from dynesty import plotting as dyplot\n",
    "\n",
    "# Plot a summary of the run.\n",
    "#rfig, raxes = dyplot.runplot(ns_results_sep_adv, logplot=True) #this doesn't seem to like evidences that are large.\n",
    "#seems the plotting function plots evidence in a linear fashion, and hence tries to calculate e^(ln(evidence)).\n",
    "#if ln(evidence) is large, i.e 800, then we get an overflow issue as this number is HUGE.\n",
    "\n",
    "# Plot traces and 1-D marginalized posteriors.\n",
    "#tfig, taxes = dyplot.traceplot(ns_results_sep_adv)\n",
    "\n",
    "#Plot the 2-D marginalized posteriors.\n",
    "#cfig, caxes = dyplot.cornerplot(ns_results_sep_adv, labels=glob_objective.varying_parameters().names())\n",
    "\n",
    "print(ns_results_sep_adv.logz[-1], ns_results_sep_adv.logzerr[-1])"
   ]
  },
  {
   "cell_type": "code",
   "execution_count": null,
   "metadata": {},
   "outputs": [],
   "source": []
  }
 ],
 "metadata": {
  "kernelspec": {
   "display_name": "Python 3 (ipykernel)",
   "language": "python",
   "name": "python3"
  },
  "language_info": {
   "codemirror_mode": {
    "name": "ipython",
    "version": 3
   },
   "file_extension": ".py",
   "mimetype": "text/x-python",
   "name": "python",
   "nbconvert_exporter": "python",
   "pygments_lexer": "ipython3",
   "version": "3.9.7"
  }
 },
 "nbformat": 4,
 "nbformat_minor": 4
}
