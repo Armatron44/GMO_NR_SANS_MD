{
 "cells": [
  {
   "cell_type": "code",
   "execution_count": 1,
   "id": "00b641cb",
   "metadata": {},
   "outputs": [],
   "source": [
    "import matplotlib.pyplot as plt\n",
    "%matplotlib inline\n",
    "from scipy.stats import norm\n",
    "import numpy as np\n",
    "import os"
   ]
  },
  {
   "cell_type": "code",
   "execution_count": 2,
   "id": "252e0d74",
   "metadata": {},
   "outputs": [],
   "source": [
    "SMALL_SIZE = 10*3\n",
    "MEDIUM_SIZE = 12*3\n",
    "plt.rc('text', usetex=True)\n",
    "plt.rc('font', family='serif')\n",
    "plt.rc('font', serif='Computer Modern Roman')\n",
    "plt.rc('font', size=SMALL_SIZE)          # controls default text sizes\n",
    "plt.rc('axes', titlesize=MEDIUM_SIZE)     # fontsize of the ax[0]es title\n",
    "plt.rc('axes', labelsize=MEDIUM_SIZE)    # fontsize of the x and y labels\n",
    "plt.rc('xtick', labelsize=SMALL_SIZE)    # fontsize of the tick labels\n",
    "plt.rc('ytick', labelsize=SMALL_SIZE)    # fontsize of the tick labels\n",
    "plt.rc('legend', fontsize=SMALL_SIZE)    # legend fontsize"
   ]
  },
  {
   "cell_type": "code",
   "execution_count": 3,
   "id": "da56cb36",
   "metadata": {},
   "outputs": [],
   "source": [
    "GMO_dd = np.loadtxt(os.path.join(os.getcwd(), \"Fit_store_modesim\\IQ_GMO_dd.txt\"))\n",
    "GMO_D2O_dd = np.loadtxt(os.path.join(os.getcwd(), \"Fit_store_modesim\\IQ_medsim_GMO_D2O_dd.txt\"))\n",
    "GMO_H2O_dd = np.loadtxt(os.path.join(os.getcwd(), \"Fit_store_modesim\\IQ_medsim_GMO_H2O_dd.txt\"))"
   ]
  },
  {
   "cell_type": "code",
   "execution_count": 4,
   "id": "2959be67",
   "metadata": {},
   "outputs": [],
   "source": [
    "d2 = np.loadtxt(\"d2.txt\", skiprows=5)\n",
    "d3 = np.loadtxt(\"d3.txt\", skiprows=5)\n",
    "d4 = np.loadtxt(\"d4.txt\", skiprows=5)"
   ]
  },
  {
   "cell_type": "code",
   "execution_count": 5,
   "id": "b1d3d84d",
   "metadata": {},
   "outputs": [],
   "source": [
    "#recreate Fig 2a\n",
    "\n",
    "%matplotlib qt\n",
    "\n",
    "fig, ax = plt.subplots(figsize=(91*0.0393701*3, 71*0.0393701*3))\n",
    "ax.plot(GMO_dd[:, 0], GMO_dd[:, 1], color='k', zorder=10, linewidth=3, dashes=[2, 2])\n",
    "ax.plot(GMO_D2O_dd[:, 0], GMO_D2O_dd[:, 1], color='k', zorder=10, linewidth=3, dashes=[2, 2])\n",
    "ax.plot(GMO_H2O_dd[:, 0], GMO_H2O_dd[:, 1], color='k', zorder=10, linewidth=3, dashes=[2, 2])\n",
    "ax.errorbar(x=d2[:, 0], y=d2[:, 1], yerr=d2[:, 2], linestyle='None', marker='.', markersize=12*1.75, color='green', fillstyle='none', markeredgewidth=2, elinewidth=2)\n",
    "ax.errorbar(x=d3[:, 0], y=d3[:, 1], yerr=d3[:, 2], linestyle='None', marker='s', markersize=6*1.75, color='#0094ffff', fillstyle='none', markeredgewidth=2, elinewidth=2)\n",
    "ax.errorbar(x=d4[:, 0], y=d4[:, 1], yerr=d4[:, 2], linestyle='None', marker='*', markersize=9*1.75, color='red', fillstyle='none', markeredgewidth=2, elinewidth=2)\n",
    "\n",
    "import matplotlib.lines as mlines\n",
    "GMO = mlines.Line2D([], [], marker='o', color='green', markersize=8*1.75, label=r'GMO 20 mM', ls='None', fillstyle='none',  markeredgewidth=2)\n",
    "GMO_H2O = mlines.Line2D([], [], marker='s', color='#0094ffff', markersize=6*1.75, label=r'GMO 20 mM + H$_{2}$O 100 mM', ls='None', fillstyle='none',  markeredgewidth=2)\n",
    "GMO_D2O = mlines.Line2D([], [], marker='*', color='red', markersize=9*1.75, label=r'GMO 20 mM + D$_{2}$O 100 mM', ls='None', fillstyle='none',  markeredgewidth=2)\n",
    "\n",
    "for axis in ['top','bottom','left','right']:\n",
    "    ax.spines[axis].set_linewidth(0.219*2.83465*3)\n",
    "ax.xaxis.set_tick_params(width=0.219*2.83465*3, length=10)\n",
    "ax.yaxis.set_tick_params(width=0.219*2.83465*3, length=10)\n",
    "ax.xaxis.set_tick_params(width=0.219*2.83465*3, length=5, which='minor')\n",
    "ax.yaxis.set_tick_params(width=0.219*2.83465*3, length=5, which='minor')\n",
    "ax.spines['top'].set_visible(False)\n",
    "ax.spines['right'].set_visible(False)\n",
    "\n",
    "ax.legend(handles=[GMO, GMO_H2O, GMO_D2O], frameon=False, handletextpad=0, loc='lower left', bbox_to_anchor=(0.1, 0.03),\n",
    "         borderaxespad=0, borderpad=0)\n",
    "\n",
    "ax.set_xlim(3.8E-3, 0.85)\n",
    "ax.set_ylim(3E-3, 7)\n",
    "\n",
    "ax.set_xscale('log')\n",
    "ax.set_yscale('log')\n",
    "ax.set_xlabel(r'$Q$ / $\\mathrm{\\AA{}}^{-1}$')\n",
    "ax.set_ylabel(r'$I\\left(Q\\right)$ / $\\mathrm{cm}^{-1}$')\n",
    "plt.subplots_adjust(left=0.15, right=0.99, top=0.99, bottom=0.155)"
   ]
  },
  {
   "cell_type": "code",
   "execution_count": null,
   "id": "a5f5ade6",
   "metadata": {},
   "outputs": [],
   "source": []
  }
 ],
 "metadata": {
  "kernelspec": {
   "display_name": "Python 3 (ipykernel)",
   "language": "python",
   "name": "python3"
  },
  "language_info": {
   "codemirror_mode": {
    "name": "ipython",
    "version": 3
   },
   "file_extension": ".py",
   "mimetype": "text/x-python",
   "name": "python",
   "nbconvert_exporter": "python",
   "pygments_lexer": "ipython3",
   "version": "3.9.7"
  }
 },
 "nbformat": 4,
 "nbformat_minor": 5
}
